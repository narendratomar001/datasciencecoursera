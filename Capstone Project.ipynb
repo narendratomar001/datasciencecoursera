{
    "cells": [
        {
            "metadata": {
                "collapsed": true
            },
            "cell_type": "markdown",
            "source": "This notebook will be mainly used for the Coursera Capstone project."
        },
        {
            "metadata": {},
            "cell_type": "code",
            "source": "import pandas as pd # library for data analsysis\nimport numpy as np # library to handle data in a vectorized manner\nprint(\"Hello Capstone Project Course!\")",
            "execution_count": 2,
            "outputs": [
                {
                    "output_type": "stream",
                    "text": "Hello Capstone Project Course!\n",
                    "name": "stdout"
                }
            ]
        }
    ],
    "metadata": {
        "kernelspec": {
            "name": "python3",
            "display_name": "Python 3.7",
            "language": "python"
        },
        "language_info": {
            "name": "python",
            "version": "3.7.9",
            "mimetype": "text/x-python",
            "codemirror_mode": {
                "name": "ipython",
                "version": 3
            },
            "pygments_lexer": "ipython3",
            "nbconvert_exporter": "python",
            "file_extension": ".py"
        }
    },
    "nbformat": 4,
    "nbformat_minor": 1
}