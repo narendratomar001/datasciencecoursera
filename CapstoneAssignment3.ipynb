{
    "cells": [
        {
            "metadata": {},
            "cell_type": "code",
            "source": "import requests\nimport pandas as pd\nimport numpy as np\nimport random",
            "execution_count": 1,
            "outputs": []
        },
        {
            "metadata": {},
            "cell_type": "code",
            "source": "pip install geopy",
            "execution_count": 3,
            "outputs": [
                {
                    "output_type": "stream",
                    "text": "Requirement already satisfied: geopy in /opt/conda/envs/Python-3.7-main/lib/python3.7/site-packages (2.0.0)\nRequirement already satisfied: geographiclib<2,>=1.49 in /opt/conda/envs/Python-3.7-main/lib/python3.7/site-packages (from geopy) (1.50)\nNote: you may need to restart the kernel to use updated packages.\n",
                    "name": "stdout"
                }
            ]
        },
        {
            "metadata": {},
            "cell_type": "code",
            "source": "from geopy.geocoders import Nominatim\nfrom IPython.display import Image \nfrom IPython.core.display import HTML ",
            "execution_count": 4,
            "outputs": []
        },
        {
            "metadata": {},
            "cell_type": "code",
            "source": "from pandas.io.json import json_normalize",
            "execution_count": 5,
            "outputs": []
        },
        {
            "metadata": {},
            "cell_type": "code",
            "source": "pip install folium==0.5.0\n",
            "execution_count": 7,
            "outputs": [
                {
                    "output_type": "stream",
                    "text": "Collecting folium==0.5.0\n  Downloading folium-0.5.0.tar.gz (79 kB)\n\u001b[K     |\u2588\u2588\u2588\u2588\u2588\u2588\u2588\u2588\u2588\u2588\u2588\u2588\u2588\u2588\u2588\u2588\u2588\u2588\u2588\u2588\u2588\u2588\u2588\u2588\u2588\u2588\u2588\u2588\u2588\u2588\u2588\u2588| 79 kB 7.9 MB/s  eta 0:00:01\n\u001b[?25hCollecting branca\n  Downloading branca-0.4.2-py3-none-any.whl (24 kB)\nRequirement already satisfied: jinja2 in /opt/conda/envs/Python-3.7-main/lib/python3.7/site-packages (from folium==0.5.0) (2.11.2)\nRequirement already satisfied: requests in /opt/conda/envs/Python-3.7-main/lib/python3.7/site-packages (from folium==0.5.0) (2.24.0)\nRequirement already satisfied: six in /opt/conda/envs/Python-3.7-main/lib/python3.7/site-packages (from folium==0.5.0) (1.15.0)\nRequirement already satisfied: MarkupSafe>=0.23 in /opt/conda/envs/Python-3.7-main/lib/python3.7/site-packages (from jinja2->folium==0.5.0) (1.1.1)\nRequirement already satisfied: urllib3!=1.25.0,!=1.25.1,<1.26,>=1.21.1 in /opt/conda/envs/Python-3.7-main/lib/python3.7/site-packages (from requests->folium==0.5.0) (1.25.9)\nRequirement already satisfied: idna<3,>=2.5 in /opt/conda/envs/Python-3.7-main/lib/python3.7/site-packages (from requests->folium==0.5.0) (2.9)\nRequirement already satisfied: chardet<4,>=3.0.2 in /opt/conda/envs/Python-3.7-main/lib/python3.7/site-packages (from requests->folium==0.5.0) (3.0.4)\nRequirement already satisfied: certifi>=2017.4.17 in /opt/conda/envs/Python-3.7-main/lib/python3.7/site-packages (from requests->folium==0.5.0) (2020.12.5)\nBuilding wheels for collected packages: folium\n  Building wheel for folium (setup.py) ... \u001b[?25ldone\n\u001b[?25h  Created wheel for folium: filename=folium-0.5.0-py3-none-any.whl size=76240 sha256=8b5bd3a7ff375676b2b115c0ce0a4b30fdb1e6d26416abc48b27c58304514dc9\n  Stored in directory: /tmp/wsuser/.cache/pip/wheels/b2/2f/2c/109e446b990d663ea5ce9b078b5e7c1a9c45cca91f377080f8\nSuccessfully built folium\nInstalling collected packages: branca, folium\nSuccessfully installed branca-0.4.2 folium-0.5.0\nNote: you may need to restart the kernel to use updated packages.\n",
                    "name": "stdout"
                }
            ]
        },
        {
            "metadata": {},
            "cell_type": "code",
            "source": "import folium",
            "execution_count": 8,
            "outputs": []
        },
        {
            "metadata": {},
            "cell_type": "code",
            "source": "from geopy import geocoders  ",
            "execution_count": 9,
            "outputs": []
        },
        {
            "metadata": {},
            "cell_type": "code",
            "source": "pip install jupyter_dash",
            "execution_count": 11,
            "outputs": [
                {
                    "output_type": "stream",
                    "text": "Collecting jupyter_dash\n  Downloading jupyter_dash-0.4.0-py3-none-any.whl (20 kB)\nRequirement already satisfied: ipykernel in /opt/conda/envs/Python-3.7-main/lib/python3.7/site-packages (from jupyter_dash) (5.3.0)\nRequirement already satisfied: ipython in /opt/conda/envs/Python-3.7-main/lib/python3.7/site-packages (from jupyter_dash) (7.15.0)\nCollecting ansi2html\n  Downloading ansi2html-1.6.0-py3-none-any.whl (14 kB)\nRequirement already satisfied: requests in /opt/conda/envs/Python-3.7-main/lib/python3.7/site-packages (from jupyter_dash) (2.24.0)\nRequirement already satisfied: retrying in /opt/conda/envs/Python-3.7-main/lib/python3.7/site-packages (from jupyter_dash) (1.3.3)\nCollecting dash\n  Downloading dash-1.19.0.tar.gz (75 kB)\n\u001b[K     |\u2588\u2588\u2588\u2588\u2588\u2588\u2588\u2588\u2588\u2588\u2588\u2588\u2588\u2588\u2588\u2588\u2588\u2588\u2588\u2588\u2588\u2588\u2588\u2588\u2588\u2588\u2588\u2588\u2588\u2588\u2588\u2588| 75 kB 6.8 MB/s  eta 0:00:01\n\u001b[?25hCollecting flask\n  Downloading Flask-1.1.2-py2.py3-none-any.whl (94 kB)\n\u001b[K     |\u2588\u2588\u2588\u2588\u2588\u2588\u2588\u2588\u2588\u2588\u2588\u2588\u2588\u2588\u2588\u2588\u2588\u2588\u2588\u2588\u2588\u2588\u2588\u2588\u2588\u2588\u2588\u2588\u2588\u2588\u2588\u2588| 94 kB 7.0 MB/s  eta 0:00:01\n\u001b[?25hRequirement already satisfied: jupyter-client in /opt/conda/envs/Python-3.7-main/lib/python3.7/site-packages (from ipykernel->jupyter_dash) (6.1.3)\nRequirement already satisfied: traitlets>=4.1.0 in /opt/conda/envs/Python-3.7-main/lib/python3.7/site-packages (from ipykernel->jupyter_dash) (4.3.3)\nRequirement already satisfied: tornado>=4.2 in /opt/conda/envs/Python-3.7-main/lib/python3.7/site-packages (from ipykernel->jupyter_dash) (6.0.4)\nRequirement already satisfied: backcall in /opt/conda/envs/Python-3.7-main/lib/python3.7/site-packages (from ipython->jupyter_dash) (0.2.0)\nRequirement already satisfied: decorator in /opt/conda/envs/Python-3.7-main/lib/python3.7/site-packages (from ipython->jupyter_dash) (4.4.2)\nRequirement already satisfied: pexpect; sys_platform != \"win32\" in /opt/conda/envs/Python-3.7-main/lib/python3.7/site-packages (from ipython->jupyter_dash) (4.8.0)\nRequirement already satisfied: pickleshare in /opt/conda/envs/Python-3.7-main/lib/python3.7/site-packages (from ipython->jupyter_dash) (0.7.5)\nRequirement already satisfied: pygments in /opt/conda/envs/Python-3.7-main/lib/python3.7/site-packages (from ipython->jupyter_dash) (2.6.1)\nRequirement already satisfied: setuptools>=18.5 in /opt/conda/envs/Python-3.7-main/lib/python3.7/site-packages (from ipython->jupyter_dash) (47.3.1.post20200622)\nRequirement already satisfied: prompt-toolkit!=3.0.0,!=3.0.1,<3.1.0,>=2.0.0 in /opt/conda/envs/Python-3.7-main/lib/python3.7/site-packages (from ipython->jupyter_dash) (3.0.5)\nRequirement already satisfied: jedi>=0.10 in /opt/conda/envs/Python-3.7-main/lib/python3.7/site-packages (from ipython->jupyter_dash) (0.17.1)\nRequirement already satisfied: urllib3!=1.25.0,!=1.25.1,<1.26,>=1.21.1 in /opt/conda/envs/Python-3.7-main/lib/python3.7/site-packages (from requests->jupyter_dash) (1.25.9)\nRequirement already satisfied: chardet<4,>=3.0.2 in /opt/conda/envs/Python-3.7-main/lib/python3.7/site-packages (from requests->jupyter_dash) (3.0.4)\nRequirement already satisfied: certifi>=2017.4.17 in /opt/conda/envs/Python-3.7-main/lib/python3.7/site-packages (from requests->jupyter_dash) (2020.12.5)\nRequirement already satisfied: idna<3,>=2.5 in /opt/conda/envs/Python-3.7-main/lib/python3.7/site-packages (from requests->jupyter_dash) (2.9)\nRequirement already satisfied: six>=1.7.0 in /opt/conda/envs/Python-3.7-main/lib/python3.7/site-packages (from retrying->jupyter_dash) (1.15.0)\nCollecting flask-compress\n  Downloading Flask_Compress-1.8.0-py3-none-any.whl (7.2 kB)\nRequirement already satisfied: plotly in /opt/conda/envs/Python-3.7-main/lib/python3.7/site-packages (from dash->jupyter_dash) (4.8.2)\nCollecting dash_renderer==1.9.0\n  Downloading dash_renderer-1.9.0.tar.gz (1.0 MB)\n\u001b[K     |\u2588\u2588\u2588\u2588\u2588\u2588\u2588\u2588\u2588\u2588\u2588\u2588\u2588\u2588\u2588\u2588\u2588\u2588\u2588\u2588\u2588\u2588\u2588\u2588\u2588\u2588\u2588\u2588\u2588\u2588\u2588\u2588| 1.0 MB 30.3 MB/s eta 0:00:01\n\u001b[?25hCollecting dash-core-components==1.15.0\n  Downloading dash_core_components-1.15.0.tar.gz (3.5 MB)\n\u001b[K     |\u2588\u2588\u2588\u2588\u2588\u2588\u2588\u2588\u2588\u2588\u2588\u2588\u2588\u2588\u2588\u2588\u2588\u2588\u2588\u2588\u2588\u2588\u2588\u2588\u2588\u2588\u2588\u2588\u2588\u2588\u2588\u2588| 3.5 MB 55.5 MB/s eta 0:00:01\n\u001b[?25hCollecting dash-html-components==1.1.2\n  Downloading dash_html_components-1.1.2.tar.gz (188 kB)\n\u001b[K     |\u2588\u2588\u2588\u2588\u2588\u2588\u2588\u2588\u2588\u2588\u2588\u2588\u2588\u2588\u2588\u2588\u2588\u2588\u2588\u2588\u2588\u2588\u2588\u2588\u2588\u2588\u2588\u2588\u2588\u2588\u2588\u2588| 188 kB 57.5 MB/s eta 0:00:01\n\u001b[?25hCollecting dash-table==4.11.2\n  Downloading dash_table-4.11.2.tar.gz (1.8 MB)\n\u001b[K     |\u2588\u2588\u2588\u2588\u2588\u2588\u2588\u2588\u2588\u2588\u2588\u2588\u2588\u2588\u2588\u2588\u2588\u2588\u2588\u2588\u2588\u2588\u2588\u2588\u2588\u2588\u2588\u2588\u2588\u2588\u2588\u2588| 1.8 MB 56.2 MB/s eta 0:00:01\n\u001b[?25hRequirement already satisfied: future in /opt/conda/envs/Python-3.7-main/lib/python3.7/site-packages (from dash->jupyter_dash) (0.18.2)\nRequirement already satisfied: Werkzeug>=0.15 in /opt/conda/envs/Python-3.7-main/lib/python3.7/site-packages (from flask->jupyter_dash) (1.0.1)\nRequirement already satisfied: click>=5.1 in /opt/conda/envs/Python-3.7-main/lib/python3.7/site-packages (from flask->jupyter_dash) (7.1.2)\nCollecting itsdangerous>=0.24\n  Downloading itsdangerous-1.1.0-py2.py3-none-any.whl (16 kB)\nRequirement already satisfied: Jinja2>=2.10.1 in /opt/conda/envs/Python-3.7-main/lib/python3.7/site-packages (from flask->jupyter_dash) (2.11.2)\nRequirement already satisfied: python-dateutil>=2.1 in /opt/conda/envs/Python-3.7-main/lib/python3.7/site-packages (from jupyter-client->ipykernel->jupyter_dash) (2.8.1)\nRequirement already satisfied: jupyter-core>=4.6.0 in /opt/conda/envs/Python-3.7-main/lib/python3.7/site-packages (from jupyter-client->ipykernel->jupyter_dash) (4.6.3)\nRequirement already satisfied: pyzmq>=13 in /opt/conda/envs/Python-3.7-main/lib/python3.7/site-packages (from jupyter-client->ipykernel->jupyter_dash) (19.0.1)\nRequirement already satisfied: ipython-genutils in /opt/conda/envs/Python-3.7-main/lib/python3.7/site-packages (from traitlets>=4.1.0->ipykernel->jupyter_dash) (0.2.0)\nRequirement already satisfied: ptyprocess>=0.5 in /opt/conda/envs/Python-3.7-main/lib/python3.7/site-packages (from pexpect; sys_platform != \"win32\"->ipython->jupyter_dash) (0.6.0)\nRequirement already satisfied: wcwidth in /opt/conda/envs/Python-3.7-main/lib/python3.7/site-packages (from prompt-toolkit!=3.0.0,!=3.0.1,<3.1.0,>=2.0.0->ipython->jupyter_dash) (0.2.4)\nRequirement already satisfied: parso<0.8.0,>=0.7.0 in /opt/conda/envs/Python-3.7-main/lib/python3.7/site-packages (from jedi>=0.10->ipython->jupyter_dash) (0.7.0)\nCollecting brotli\n  Downloading Brotli-1.0.9-cp37-cp37m-manylinux1_x86_64.whl (357 kB)\n\u001b[K     |\u2588\u2588\u2588\u2588\u2588\u2588\u2588\u2588\u2588\u2588\u2588\u2588\u2588\u2588\u2588\u2588\u2588\u2588\u2588\u2588\u2588\u2588\u2588\u2588\u2588\u2588\u2588\u2588\u2588\u2588\u2588\u2588| 357 kB 52.6 MB/s eta 0:00:01\n\u001b[?25hRequirement already satisfied: MarkupSafe>=0.23 in /opt/conda/envs/Python-3.7-main/lib/python3.7/site-packages (from Jinja2>=2.10.1->flask->jupyter_dash) (1.1.1)\nBuilding wheels for collected packages: dash, dash-renderer, dash-core-components, dash-html-components, dash-table\n  Building wheel for dash (setup.py) ... \u001b[?25ldone\n\u001b[?25h  Created wheel for dash: filename=dash-1.19.0-py3-none-any.whl size=84011 sha256=1bb16e2a57220a14d82c12823eaca610fc519836e5272ff03e34d4371e326cb3\n  Stored in directory: /tmp/wsuser/.cache/pip/wheels/85/e9/f4/033d9bd19fe04ba8b3b41b6cfaec3c4634e85bdcdd82858ff3\n  Building wheel for dash-renderer (setup.py) ... \u001b[?25ldone\n\u001b[?25h  Created wheel for dash-renderer: filename=dash_renderer-1.9.0-py3-none-any.whl size=1014872 sha256=fbe6cc881ec804fa663c5cc964e66250b5f14aadf97e11fc06853bbaee1bd060\n  Stored in directory: /tmp/wsuser/.cache/pip/wheels/bb/53/d4/13f2804207aada48c7182dfb85e03b50feecdf601e50ff5603\n  Building wheel for dash-core-components (setup.py) ... \u001b[?25ldone\n\u001b[?25h  Created wheel for dash-core-components: filename=dash_core_components-1.15.0-py3-none-any.whl size=3527010 sha256=a37ab0a237434e4679acc92f0c9f5a2b8054ebdfeeddb38a4125f8b9331eae63\n  Stored in directory: /tmp/wsuser/.cache/pip/wheels/02/a5/de/374685270e68a4a49867f9c0ddd477a85e09eb1a2cb0998f92\n  Building wheel for dash-html-components (setup.py) ... \u001b[?25ldone\n\u001b[?25h  Created wheel for dash-html-components: filename=dash_html_components-1.1.2-py3-none-any.whl size=427831 sha256=a012c5fef05b6c31a1e3e79bd2ea0fb86e7e09054df2bb0689be3875851dfcf2\n  Stored in directory: /tmp/wsuser/.cache/pip/wheels/99/cb/33/e4a2c51ecfcaa8ebeb37c1835d878860b76b2101833e31b434\n  Building wheel for dash-table (setup.py) ... \u001b[?25ldone\n\u001b[?25h  Created wheel for dash-table: filename=dash_table-4.11.2-py3-none-any.whl size=1839869 sha256=f272a79cedc6014428d032bf08d068700337fe5fd8f297b6e987e3abb6e3b71a\n  Stored in directory: /tmp/wsuser/.cache/pip/wheels/57/bc/76/fd2c8bfa63b7360f1dbf9814fb622ec0c7bec0107e6032e8fd\nSuccessfully built dash dash-renderer dash-core-components dash-html-components dash-table\n",
                    "name": "stdout"
                },
                {
                    "output_type": "stream",
                    "text": "Installing collected packages: ansi2html, itsdangerous, flask, brotli, flask-compress, dash-renderer, dash-core-components, dash-html-components, dash-table, dash, jupyter-dash\nSuccessfully installed ansi2html-1.6.0 brotli-1.0.9 dash-1.19.0 dash-core-components-1.15.0 dash-html-components-1.1.2 dash-renderer-1.9.0 dash-table-4.11.2 flask-1.1.2 flask-compress-1.8.0 itsdangerous-1.1.0 jupyter-dash-0.4.0\nNote: you may need to restart the kernel to use updated packages.\n",
                    "name": "stdout"
                }
            ]
        },
        {
            "metadata": {},
            "cell_type": "code",
            "source": "pip install dash",
            "execution_count": 12,
            "outputs": [
                {
                    "output_type": "stream",
                    "text": "Requirement already satisfied: dash in /opt/conda/envs/Python-3.7-main/lib/python3.7/site-packages (1.19.0)\nRequirement already satisfied: dash-renderer==1.9.0 in /opt/conda/envs/Python-3.7-main/lib/python3.7/site-packages (from dash) (1.9.0)\nRequirement already satisfied: plotly in /opt/conda/envs/Python-3.7-main/lib/python3.7/site-packages (from dash) (4.8.2)\nRequirement already satisfied: dash-html-components==1.1.2 in /opt/conda/envs/Python-3.7-main/lib/python3.7/site-packages (from dash) (1.1.2)\nRequirement already satisfied: dash-core-components==1.15.0 in /opt/conda/envs/Python-3.7-main/lib/python3.7/site-packages (from dash) (1.15.0)\nRequirement already satisfied: dash-table==4.11.2 in /opt/conda/envs/Python-3.7-main/lib/python3.7/site-packages (from dash) (4.11.2)\nRequirement already satisfied: future in /opt/conda/envs/Python-3.7-main/lib/python3.7/site-packages (from dash) (0.18.2)\nRequirement already satisfied: Flask>=1.0.4 in /opt/conda/envs/Python-3.7-main/lib/python3.7/site-packages (from dash) (1.1.2)\nRequirement already satisfied: flask-compress in /opt/conda/envs/Python-3.7-main/lib/python3.7/site-packages (from dash) (1.8.0)\nRequirement already satisfied: retrying>=1.3.3 in /opt/conda/envs/Python-3.7-main/lib/python3.7/site-packages (from plotly->dash) (1.3.3)\nRequirement already satisfied: six in /opt/conda/envs/Python-3.7-main/lib/python3.7/site-packages (from plotly->dash) (1.15.0)\nRequirement already satisfied: Jinja2>=2.10.1 in /opt/conda/envs/Python-3.7-main/lib/python3.7/site-packages (from Flask>=1.0.4->dash) (2.11.2)\nRequirement already satisfied: Werkzeug>=0.15 in /opt/conda/envs/Python-3.7-main/lib/python3.7/site-packages (from Flask>=1.0.4->dash) (1.0.1)\nRequirement already satisfied: click>=5.1 in /opt/conda/envs/Python-3.7-main/lib/python3.7/site-packages (from Flask>=1.0.4->dash) (7.1.2)\nRequirement already satisfied: itsdangerous>=0.24 in /opt/conda/envs/Python-3.7-main/lib/python3.7/site-packages (from Flask>=1.0.4->dash) (1.1.0)\nRequirement already satisfied: brotli in /opt/conda/envs/Python-3.7-main/lib/python3.7/site-packages (from flask-compress->dash) (1.0.9)\nRequirement already satisfied: MarkupSafe>=0.23 in /opt/conda/envs/Python-3.7-main/lib/python3.7/site-packages (from Jinja2>=2.10.1->Flask>=1.0.4->dash) (1.1.1)\nNote: you may need to restart the kernel to use updated packages.\n",
                    "name": "stdout"
                }
            ]
        },
        {
            "metadata": {},
            "cell_type": "code",
            "source": "import dash\nimport dash_core_components as dcc\nimport dash_html_components as html\nfrom dash.dependencies import Input, Output\nfrom jupyter_dash import JupyterDash\nimport plotly.express as px\nimport requests",
            "execution_count": 13,
            "outputs": []
        },
        {
            "metadata": {},
            "cell_type": "code",
            "source": "\nimport types\nimport pandas as pd\nfrom botocore.client import Config\nimport ibm_boto3\n\ndef __iter__(self): return 0\n\n# @hidden_cell\n# The following code accesses a file in your IBM Cloud Object Storage. It includes your credentials.\n# You might want to remove those credentials before you share the notebook.\nclient_7113c065a7a1446aac61840514469e74 = ibm_boto3.client(service_name='s3',\n    ibm_api_key_id='_VxhL0UsFNGlliP_pkdOJNEtJKazMXCP4qgjQgT86glk',\n    ibm_auth_endpoint=\"https://iam.cloud.ibm.com/oidc/token\",\n    config=Config(signature_version='oauth'),\n    endpoint_url='https://s3.eu-geo.objectstorage.service.networklayer.com')\n\nbody = client_7113c065a7a1446aac61840514469e74.get_object(Bucket='pythonbasicsfordatascienceproject-donotdelete-pr-jioo5n49lhra7s',Key='Geospatial_Coordinates.csv')['Body']\n# add missing __iter__ method, so pandas accepts body as file-like object\nif not hasattr(body, \"__iter__\"): body.__iter__ = types.MethodType( __iter__, body )\n\ndf_data_1 = pd.read_csv(body)\ndf_data_1.head()\n",
            "execution_count": 17,
            "outputs": [
                {
                    "output_type": "execute_result",
                    "execution_count": 17,
                    "data": {
                        "text/plain": "  Postal Code           Borough                                Neighbourhood  \\\n0         M1E        North York                                    Parkwoods   \n1         M1G        North York                             Victoria Village   \n2         M1H  Downtown Toronto                    Regent Park, Harbourfront   \n3         M1J        North York             Lawrence Manor, Lawrence Heights   \n4         M1K  Downtown Toronto  Queen's Park, Ontario Provincial Government   \n\n    Latitude  Longitude  \n0  43.763573 -79.188711  \n1  43.770992 -79.216917  \n2  43.773136 -79.239476  \n3  43.744734 -79.239476  \n4  43.727929 -79.262029  ",
                        "text/html": "<div>\n<style scoped>\n    .dataframe tbody tr th:only-of-type {\n        vertical-align: middle;\n    }\n\n    .dataframe tbody tr th {\n        vertical-align: top;\n    }\n\n    .dataframe thead th {\n        text-align: right;\n    }\n</style>\n<table border=\"1\" class=\"dataframe\">\n  <thead>\n    <tr style=\"text-align: right;\">\n      <th></th>\n      <th>Postal Code</th>\n      <th>Borough</th>\n      <th>Neighbourhood</th>\n      <th>Latitude</th>\n      <th>Longitude</th>\n    </tr>\n  </thead>\n  <tbody>\n    <tr>\n      <th>0</th>\n      <td>M1E</td>\n      <td>North York</td>\n      <td>Parkwoods</td>\n      <td>43.763573</td>\n      <td>-79.188711</td>\n    </tr>\n    <tr>\n      <th>1</th>\n      <td>M1G</td>\n      <td>North York</td>\n      <td>Victoria Village</td>\n      <td>43.770992</td>\n      <td>-79.216917</td>\n    </tr>\n    <tr>\n      <th>2</th>\n      <td>M1H</td>\n      <td>Downtown Toronto</td>\n      <td>Regent Park, Harbourfront</td>\n      <td>43.773136</td>\n      <td>-79.239476</td>\n    </tr>\n    <tr>\n      <th>3</th>\n      <td>M1J</td>\n      <td>North York</td>\n      <td>Lawrence Manor, Lawrence Heights</td>\n      <td>43.744734</td>\n      <td>-79.239476</td>\n    </tr>\n    <tr>\n      <th>4</th>\n      <td>M1K</td>\n      <td>Downtown Toronto</td>\n      <td>Queen's Park, Ontario Provincial Government</td>\n      <td>43.727929</td>\n      <td>-79.262029</td>\n    </tr>\n  </tbody>\n</table>\n</div>"
                    },
                    "metadata": {}
                }
            ]
        },
        {
            "metadata": {},
            "cell_type": "code",
            "source": "",
            "execution_count": null,
            "outputs": []
        }
    ],
    "metadata": {
        "kernelspec": {
            "name": "python3",
            "display_name": "Python 3.7",
            "language": "python"
        },
        "language_info": {
            "name": "python",
            "version": "3.7.9",
            "mimetype": "text/x-python",
            "codemirror_mode": {
                "name": "ipython",
                "version": 3
            },
            "pygments_lexer": "ipython3",
            "nbconvert_exporter": "python",
            "file_extension": ".py"
        }
    },
    "nbformat": 4,
    "nbformat_minor": 1
}